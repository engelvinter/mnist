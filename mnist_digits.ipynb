{
 "cells": [
  {
   "cell_type": "code",
   "execution_count": 1,
   "metadata": {},
   "outputs": [
    {
     "name": "stderr",
     "output_type": "stream",
     "text": [
      "2024-01-07 12:22:26.243181: I external/local_tsl/tsl/cuda/cudart_stub.cc:31] Could not find cuda drivers on your machine, GPU will not be used.\n",
      "2024-01-07 12:22:26.670803: E external/local_xla/xla/stream_executor/cuda/cuda_dnn.cc:9261] Unable to register cuDNN factory: Attempting to register factory for plugin cuDNN when one has already been registered\n",
      "2024-01-07 12:22:26.670936: E external/local_xla/xla/stream_executor/cuda/cuda_fft.cc:607] Unable to register cuFFT factory: Attempting to register factory for plugin cuFFT when one has already been registered\n",
      "2024-01-07 12:22:26.728710: E external/local_xla/xla/stream_executor/cuda/cuda_blas.cc:1515] Unable to register cuBLAS factory: Attempting to register factory for plugin cuBLAS when one has already been registered\n",
      "2024-01-07 12:22:26.843961: I external/local_tsl/tsl/cuda/cudart_stub.cc:31] Could not find cuda drivers on your machine, GPU will not be used.\n",
      "2024-01-07 12:22:26.845207: I tensorflow/core/platform/cpu_feature_guard.cc:182] This TensorFlow binary is optimized to use available CPU instructions in performance-critical operations.\n",
      "To enable the following instructions: AVX2 FMA, in other operations, rebuild TensorFlow with the appropriate compiler flags.\n",
      "2024-01-07 12:22:29.528723: W tensorflow/compiler/tf2tensorrt/utils/py_utils.cc:38] TF-TRT Warning: Could not find TensorRT\n"
     ]
    }
   ],
   "source": [
    "import keras"
   ]
  },
  {
   "cell_type": "code",
   "execution_count": 2,
   "metadata": {},
   "outputs": [],
   "source": [
    "from keras.datasets import mnist\n",
    "from keras.utils import to_categorical\n",
    "import matplotlib.pyplot as plt\n",
    "from keras.models import Sequential\n",
    "from keras.layers import Conv2D, MaxPooling2D, Flatten, Dense\n",
    "from keras.datasets import mnist\n",
    "from keras.utils import to_categorical\n",
    "import numpy as np\n",
    "from PIL import Image\n",
    "import cv2\n",
    "from scipy import ndimage\n",
    "\n",
    "from functions import read_image_files, adjust_images, normalize_images, plot, invert, reshape_20x20"
   ]
  },
  {
   "cell_type": "code",
   "execution_count": 3,
   "metadata": {},
   "outputs": [],
   "source": [
    "(train_images, train_labels), (test_images, test_labels) = mnist.load_data()\n",
    "\n",
    "train_images = images = adjust_images(train_images)\n",
    "test_images = adjust_images(test_images)\n"
   ]
  },
  {
   "cell_type": "code",
   "execution_count": 4,
   "metadata": {},
   "outputs": [],
   "source": [
    "train_images = train_images.reshape((60000, 28, 28, 1)).astype('float32') / 255\n",
    "test_images = test_images.reshape((10000, 28, 28, 1)).astype('float32') / 255"
   ]
  },
  {
   "cell_type": "code",
   "execution_count": 5,
   "metadata": {},
   "outputs": [],
   "source": [
    "hot_train_labels = to_categorical(train_labels)\n",
    "hot_test_labels = to_categorical(test_labels)"
   ]
  },
  {
   "cell_type": "code",
   "execution_count": 6,
   "metadata": {},
   "outputs": [
    {
     "data": {
      "text/plain": [
       "3"
      ]
     },
     "execution_count": 6,
     "metadata": {},
     "output_type": "execute_result"
    },
    {
     "data": {
      "image/png": "[encoded data removed]",
      "text/plain": [
       "<Figure size 640x480 with 1 Axes>"
      ]
     },
     "metadata": {},
     "output_type": "display_data"
    }
   ],
   "source": [
    "plt.imshow(train_images[7], cmap='grey')\n",
    "train_labels[7]"
   ]
  },
  {
   "cell_type": "code",
   "execution_count": 7,
   "metadata": {},
   "outputs": [],
   "source": [
    "model = Sequential()\n",
    "model.add(Flatten(input_shape=(28, 28, 1)))  # Flatten the input images\n",
    "model.add(Dense(128, activation='relu'))  # Dense layer with 128 units and ReLU activation\n",
    "model.add(Dense(10, activation='softmax'))  # Output layer with 10 units (for each digit) and softmax activation\n"
   ]
  },
  {
   "cell_type": "code",
   "execution_count": 8,
   "metadata": {},
   "outputs": [],
   "source": [
    "model.compile(optimizer='adam',  # You can use other optimizers like 'sgd' or 'rmsprop'\n",
    "              loss='categorical_crossentropy',  # For multi-class classification problems\n",
    "              metrics=['accuracy'])\n"
   ]
  },
  {
   "cell_type": "code",
   "execution_count": 9,
   "metadata": {},
   "outputs": [
    {
     "name": "stdout",
     "output_type": "stream",
     "text": [
      "Epoch 1/10\n",
      "844/844 [==============================] - 5s 5ms/step - loss: 0.3505 - accuracy: 0.9021 - val_loss: 0.1653 - val_accuracy: 0.9555\n",
      "Epoch 2/10\n",
      "844/844 [==============================] - 3s 4ms/step - loss: 0.1604 - accuracy: 0.9546 - val_loss: 0.1234 - val_accuracy: 0.9668\n",
      "Epoch 3/10\n",
      "844/844 [==============================] - 3s 4ms/step - loss: 0.1160 - accuracy: 0.9666 - val_loss: 0.1036 - val_accuracy: 0.9727\n",
      "Epoch 4/10\n",
      "844/844 [==============================] - 3s 4ms/step - loss: 0.0917 - accuracy: 0.9737 - val_loss: 0.0950 - val_accuracy: 0.9747\n",
      "Epoch 5/10\n",
      "844/844 [==============================] - 3s 4ms/step - loss: 0.0737 - accuracy: 0.9788 - val_loss: 0.0870 - val_accuracy: 0.9743\n",
      "Epoch 6/10\n",
      "844/844 [==============================] - 3s 4ms/step - loss: 0.0610 - accuracy: 0.9823 - val_loss: 0.0947 - val_accuracy: 0.9742\n",
      "Epoch 7/10\n",
      "844/844 [==============================] - 3s 4ms/step - loss: 0.0513 - accuracy: 0.9852 - val_loss: 0.0841 - val_accuracy: 0.9757\n",
      "Epoch 8/10\n",
      "844/844 [==============================] - 3s 4ms/step - loss: 0.0432 - accuracy: 0.9873 - val_loss: 0.0838 - val_accuracy: 0.9775\n",
      "Epoch 9/10\n",
      "844/844 [==============================] - 3s 4ms/step - loss: 0.0373 - accuracy: 0.9891 - val_loss: 0.0790 - val_accuracy: 0.9785\n",
      "Epoch 10/10\n",
      "844/844 [==============================] - 3s 4ms/step - loss: 0.0321 - accuracy: 0.9909 - val_loss: 0.0763 - val_accuracy: 0.9808\n"
     ]
    },
    {
     "data": {
      "text/plain": [
       "<keras.src.callbacks.History at 0x7f49cf60bbe0>"
      ]
     },
     "execution_count": 9,
     "metadata": {},
     "output_type": "execute_result"
    }
   ],
   "source": [
    "model.fit(train_images, hot_train_labels, epochs=10, batch_size=64, validation_split=0.1)\n"
   ]
  },
  {
   "cell_type": "code",
   "execution_count": 10,
   "metadata": {},
   "outputs": [
    {
     "name": "stdout",
     "output_type": "stream",
     "text": [
      "313/313 [==============================] - 1s 2ms/step - loss: 0.0762 - accuracy: 0.9771\n",
      "Test Accuracy: 97.71%\n"
     ]
    }
   ],
   "source": [
    "test_loss, test_accuracy = model.evaluate(test_images, hot_test_labels)\n",
    "print(f'Test Accuracy: {test_accuracy * 100:.2f}%')\n"
   ]
  },
  {
   "cell_type": "code",
   "execution_count": 11,
   "metadata": {},
   "outputs": [
    {
     "name": "stdout",
     "output_type": "stream",
     "text": [
      "1/1 [==============================] - 0s 227ms/step\n",
      "[[4.6016485e-12 1.7120180e-06 5.3523607e-08 2.2945372e-02 5.5260994e-03\n",
      "  2.6485197e-06 1.2176281e-12 1.1395374e-05 4.7313274e-06 9.7150797e-01]]\n"
     ]
    },
    {
     "data": {
      "text/plain": [
       "9"
      ]
     },
     "execution_count": 11,
     "metadata": {},
     "output_type": "execute_result"
    }
   ],
   "source": [
    "img = np.expand_dims(test_images[7], axis=0)\n",
    "print(model.predict(img))\n",
    "test_labels[7]"
   ]
  },
  {
   "cell_type": "code",
   "execution_count": 12,
   "metadata": {},
   "outputs": [],
   "source": [
    "path = r'/home/frepa/Src/mnist/digits/frepa'\n",
    "images = read_image_files(path)"
   ]
  },
  {
   "cell_type": "code",
   "execution_count": 13,
   "metadata": {},
   "outputs": [],
   "source": [
    "images = adjust_images(images)"
   ]
  },
  {
   "cell_type": "code",
   "execution_count": 14,
   "metadata": {},
   "outputs": [],
   "source": [
    "images = normalize_images(images)"
   ]
  },
  {
   "cell_type": "code",
   "execution_count": 15,
   "metadata": {},
   "outputs": [
    {
     "name": "stdout",
     "output_type": "stream",
     "text": [
      "1/1 [==============================] - 0s 34ms/step\n",
      "6\n"
     ]
    },
    {
     "data": {
      "image/png": "[encoded data removed]",
      "text/plain": [
       "<Figure size 640x480 with 1 Axes>"
      ]
     },
     "metadata": {},
     "output_type": "display_data"
    }
   ],
   "source": [
    "omg = images[9]\n",
    "img = np.expand_dims(omg, axis=0)\n",
    "print(np.argmax(model.predict(img)))\n",
    "plot(omg)"
   ]
  },
  {
   "cell_type": "code",
   "execution_count": null,
   "metadata": {},
   "outputs": [],
   "source": []
  },
  {
   "cell_type": "code",
   "execution_count": 16,
   "metadata": {},
   "outputs": [
    {
     "data": {
      "image/png": "[encoded data removed]",
      "text/plain": [
       "<Figure size 640x480 with 1 Axes>"
      ]
     },
     "metadata": {},
     "output_type": "display_data"
    }
   ],
   "source": [
    "path = r'/home/frepa/Src/mnist/digits/pablo'\n",
    "pimages = read_image_files(path)\n",
    "iimages = invert(pimages)\n",
    "plot(iimages[0])\n",
    "s = reshape_20x20(iimages[0])\n",
    "plot(s)\n"
   ]
  },
  {
   "cell_type": "code",
   "execution_count": 17,
   "metadata": {},
   "outputs": [],
   "source": [
    "aimages = adjust_images(iimages)"
   ]
  },
  {
   "cell_type": "code",
   "execution_count": 18,
   "metadata": {},
   "outputs": [],
   "source": [
    "nimages = normalize_images(aimages)"
   ]
  },
  {
   "cell_type": "code",
   "execution_count": 19,
   "metadata": {},
   "outputs": [
    {
     "name": "stdout",
     "output_type": "stream",
     "text": [
      "1/1 [==============================] - 0s 40ms/step\n"
     ]
    },
    {
     "name": "stdout",
     "output_type": "stream",
     "text": [
      "2\n"
     ]
    },
    {
     "data": {
      "image/png": "[encoded data removed]",
      "text/plain": [
       "<Figure size 640x480 with 1 Axes>"
      ]
     },
     "metadata": {},
     "output_type": "display_data"
    }
   ],
   "source": [
    "omg = nimages[0]\n",
    "img = np.expand_dims(omg, axis=0)\n",
    "print(np.argmax(model.predict(img)))\n",
    "plot(omg)"
   ]
  },
  {
   "cell_type": "code",
   "execution_count": null,
   "metadata": {},
   "outputs": [],
   "source": []
  }
 ],
 "metadata": {
  "kernelspec": {
   "display_name": "venv",
   "language": "python",
   "name": "python3"
  },
  "language_info": {
   "codemirror_mode": {
    "name": "ipython",
    "version": 3
   },
   "file_extension": ".py",
   "mimetype": "text/x-python",
   "name": "python",
   "nbconvert_exporter": "python",
   "pygments_lexer": "ipython3",
   "version": "3.10.12"
  }
 },
 "nbformat": 4,
 "nbformat_minor": 2
}
